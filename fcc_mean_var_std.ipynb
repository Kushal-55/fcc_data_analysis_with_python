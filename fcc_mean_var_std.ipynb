{
  "nbformat": 4,
  "nbformat_minor": 0,
  "metadata": {
    "colab": {
      "provenance": [],
      "authorship_tag": "ABX9TyOr8EcYQAbfLBE1Lyd1odjj"
    },
    "kernelspec": {
      "name": "python3",
      "display_name": "Python 3"
    },
    "language_info": {
      "name": "python"
    }
  },
  "cells": [
    {
      "cell_type": "markdown",
      "source": [
        "Assignment\n",
        "\n",
        "Create a function named calculate() in mean_var_std.py that uses Numpy to output the mean, variance, standard deviation, max, min, and sum of the rows, columns, and elements in a 3 x 3 matrix.\n",
        "\n",
        "The input of the function should be a list containing 9 digits. The function should convert the list into a 3 x 3 Numpy array, and then return a dictionary containing the mean, variance, standard deviation, max, min, and sum along both axes and for the flattened matrix.\n",
        "\n",
        "The returned dictionary should follow this format:\n",
        "\n",
        "{\n",
        "  'mean': [axis1, axis2, flattened],\n",
        "  \n",
        "  'variance': [axis1, axis2, flattened],\n",
        "  \n",
        "  'standard deviation': [axis1, axis2, flattened],\n",
        "  \n",
        "  'max': [axis1, axis2, flattened],\n",
        "  \n",
        "  'min': [axis1, axis2, flattened],\n",
        "  \n",
        "  'sum': [axis1, axis2, flattened]\n",
        "}\n",
        "\n",
        "\n",
        "If a list containing less than 9 elements is passed into the function, it should raise a ValueError exception with the message: \"List must contain nine numbers.\" The values in the returned dictionary should be lists and not Numpy arrays.\n",
        "\n",
        "\n",
        "\n",
        "For example, \n",
        "\n",
        "calculate([0,1,2,3,4,5,6,7,8]) should return:\n",
        "\n",
        "{\n",
        "  'mean': [[3.0, 4.0, 5.0], [1.0, 4.0, 7.0], 4.0], \n",
        "  \n",
        "  'variance': [[6.0, 6.0, 6.0], [0.6666666666666666, 0.6666666666666666, 0.6666666666666666], 6.666666666666667], \n",
        " \n",
        "  'standard deviation': [[2.449489742783178, 2.449489742783178, 2.449489742783178], [0.816496580927726, 0.816496580927726, 0.816496580927726], 2.581988897471611],\n",
        "  \n",
        "  'max': [[6, 7, 8], [2, 5, 8], 8],\n",
        "  \n",
        "  'min': [[0, 1, 2], [0, 3, 6], 0],\n",
        "  \n",
        "  'sum': [[9, 12, 15], [3, 12, 21], 36]}\n",
        "}"
      ],
      "metadata": {
        "id": "tY5keXyV5k7m"
      }
    },
    {
      "cell_type": "code",
      "execution_count": null,
      "metadata": {
        "id": "l-Km_TGo2rc4"
      },
      "outputs": [],
      "source": [
        "import numpy as np\n",
        "\n",
        "def calculate(listt):\n",
        "\n",
        "    if len(listt) !=9:\n",
        "        raise ValueError(\"List must contain nine numbers.\")\n",
        "    else:\n",
        "      arr = np.array(listt)\n",
        "      reshaped = arr.reshape((3,3))\n",
        "      calculations = dict()\n",
        "\n",
        "      calculations['mean'] = [list(np.mean(reshaped, axis=0)), list(np.mean(reshaped, axis=1)), np.mean(arr)]\n",
        "\n",
        "      calculations['variance'] = [list(np.var(reshaped, axis=0)), list(np.var(reshaped, axis=1)), np.var(arr)]\n",
        "\n",
        "      calculations['standard deviation'] = [list(np.std(reshaped, axis=0)), list(np.std(reshaped, axis=1)), np.std(arr)]\n",
        "\n",
        "      calculations['max'] = [list(np.max(reshaped, axis=0)), list(np.max(reshaped, axis=1)), np.max(arr)]\n",
        "\n",
        "      calculations['min'] = [list(np.min(reshaped, axis=0)), list(np.min(reshaped, axis=1)), np.min(arr)]\n",
        "      \n",
        "      calculations['sum'] = [list(np.sum(reshaped, axis=0)), list(np.sum(reshaped, axis=1)), np.sum(arr)]\n",
        "\n",
        "      return calculations"
      ]
    }
  ]
}